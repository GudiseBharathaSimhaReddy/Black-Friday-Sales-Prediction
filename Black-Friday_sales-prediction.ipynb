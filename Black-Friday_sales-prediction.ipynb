{
 "cells": [
  {
   "cell_type": "code",
   "execution_count": 1,
   "id": "2092d78e-138e-42eb-b26b-816a7830814e",
   "metadata": {},
   "outputs": [],
   "source": [
    "import pandas as pd\n",
    "import numpy as np\n",
    "import matplotlib.pyplot as plt\n",
    "import seaborn as sns\n",
    "from sklearn.preprocessing import LabelEncoder\n",
    "from sklearn.model_selection import train_test_split\n",
    "from sklearn.linear_model import LinearRegression\n",
    "from sklearn.tree import DecisionTreeRegressor\n",
    "from sklearn.ensemble import RandomForestRegressor\n",
    "from sklearn.metrics import mean_squared_error\n",
    "import xgboost as xgb"
   ]
  },
  {
   "cell_type": "code",
   "execution_count": 2,
   "id": "3f956065-bc0a-4d7c-ad47-140526b7d567",
   "metadata": {},
   "outputs": [],
   "source": [
    "# Load the dataset\n",
    "df = pd.read_csv('BlackFridaySales.csv')"
   ]
  },
  {
   "cell_type": "code",
   "execution_count": 3,
   "id": "3678eb2d-fb33-45e0-8402-bd05c6832acc",
   "metadata": {},
   "outputs": [],
   "source": [
    "# Data Preprocessing\n",
    "# Encode categorical columns\n",
    "le = LabelEncoder()\n",
    "df['Age'] = le.fit_transform(df['Age'])\n",
    "df['Gender'] = le.fit_transform(df['Gender'])\n",
    "df['City_Category'] = le.fit_transform(df['City_Category'])"
   ]
  },
  {
   "cell_type": "code",
   "execution_count": 4,
   "id": "4aff7079-5ba2-43e9-ba8e-bb547e5f4993",
   "metadata": {},
   "outputs": [],
   "source": [
    "# Convert categorical variable State_In_Current_Years into dummy/indicator variables\n",
    "df = pd.get_dummies(df, columns=['Stay_In_Current_City_Years'])"
   ]
  },
  {
   "cell_type": "code",
   "execution_count": 5,
   "id": "0d6594e3-d3e0-4196-b716-6a7a765df057",
   "metadata": {},
   "outputs": [],
   "source": [
    "# Fill missing values in Product_Category_2 and Product_Category_3\n",
    "df['Product_Category_2'].fillna(df['Product_Category_2'].mode()[0], inplace=True)\n",
    "df['Product_Category_3'].fillna(df['Product_Category_3'].mode()[0], inplace=True)"
   ]
  },
  {
   "cell_type": "code",
   "execution_count": 6,
   "id": "1407dfdd-7b6d-4734-8a1a-25d6102276b0",
   "metadata": {},
   "outputs": [],
   "source": [
    "# Split dataset into training and testing sets\n",
    "X = df.drop(['Purchase'], axis=1)\n",
    "y = df['Purchase']\n",
    "X_train, X_test, y_train, y_test = train_test_split(X, y, test_size=0.2, random_state=42)"
   ]
  },
  {
   "cell_type": "code",
   "execution_count": 8,
   "id": "9eda7a27-cd87-49fa-bbda-a668a3711416",
   "metadata": {},
   "outputs": [
    {
     "name": "stdout",
     "output_type": "stream",
     "text": [
      "RMSE (Linear Regression):  4691.664962947095\n"
     ]
    }
   ],
   "source": [
    "# Modeling Phase\n",
    "# Linear Regression\n",
    "X_train_num = X_train.select_dtypes(include=['int64', 'float64'])\n",
    "y_train_num = y_train\n",
    "\n",
    "lr_model = LinearRegression()\n",
    "lr_model.fit(X_train_num, y_train_num)\n",
    "y_pred_lr = lr_model.predict(X_test.select_dtypes(include=['int64', 'float64']))\n",
    "rmse_lr = np.sqrt(mean_squared_error(y_test, y_pred_lr))\n",
    "print(\"RMSE (Linear Regression): \", rmse_lr)"
   ]
  },
  {
   "cell_type": "code",
   "execution_count": 10,
   "id": "abc43685-76de-4edb-b3fc-bfd2d98bb49b",
   "metadata": {},
   "outputs": [
    {
     "name": "stdout",
     "output_type": "stream",
     "text": [
      "RMSE (Decision Tree Regressor):  3414.440506170272\n"
     ]
    }
   ],
   "source": [
    "# Decision Tree Regressor\n",
    "X_train_num = X_train.select_dtypes(include=['int64', 'float64'])\n",
    "y_train_num = y_train\n",
    "\n",
    "dt_model = DecisionTreeRegressor()\n",
    "dt_model.fit(X_train_num, y_train_num)\n",
    "y_pred_dt = dt_model.predict(X_test.select_dtypes(include=['int64', 'float64']))\n",
    "rmse_dt = np.sqrt(mean_squared_error(y_test, y_pred_dt))\n",
    "print(\"RMSE (Decision Tree Regressor): \", rmse_dt)"
   ]
  },
  {
   "cell_type": "code",
   "execution_count": 12,
   "id": "be6fb39e-0b56-495f-b320-65ae2d6bf119",
   "metadata": {},
   "outputs": [
    {
     "name": "stdout",
     "output_type": "stream",
     "text": [
      "RMSE (Random Forest Regressor):  3037.3780795970165\n"
     ]
    }
   ],
   "source": [
    "# Random Forest Regressor\n",
    "X_train_num = X_train.select_dtypes(include=['int64', 'float64'])\n",
    "y_train_num = y_train\n",
    "\n",
    "rf_model = RandomForestRegressor()\n",
    "rf_model.fit(X_train_num, y_train_num)\n",
    "y_pred_rf = rf_model.predict(X_test.select_dtypes(include=['int64', 'float64']))\n",
    "rmse_rf = np.sqrt(mean_squared_error(y_test, y_pred_rf))\n",
    "print(\"RMSE (Random Forest Regressor): \", rmse_rf)"
   ]
  },
  {
   "cell_type": "code",
   "execution_count": 14,
   "id": "bf11527f-d048-49ba-9e0a-4457a700c0e3",
   "metadata": {},
   "outputs": [
    {
     "name": "stdout",
     "output_type": "stream",
     "text": [
      "RMSE (XGBOOST Regressor):  2877.37991364064\n"
     ]
    }
   ],
   "source": [
    "# XGBOOST Regressor\n",
    "X_train_num = X_train.select_dtypes(include=['int64', 'float64'])\n",
    "y_train_num = y_train\n",
    "\n",
    "xgb_model = xgb.XGBRegressor()\n",
    "xgb_model.fit(X_train_num, y_train_num)\n",
    "y_pred_xgb = xgb_model.predict(X_test.select_dtypes(include=['int64', 'float64']))\n",
    "rmse_xgb = np.sqrt(mean_squared_error(y_test, y_pred_xgb))\n",
    "print(\"RMSE (XGBOOST Regressor): \", rmse_xgb)"
   ]
  },
  {
   "cell_type": "code",
   "execution_count": 15,
   "id": "cdc9d377-873c-4165-bdff-29d7eff7edbc",
   "metadata": {},
   "outputs": [
    {
     "name": "stdout",
     "output_type": "stream",
     "text": [
      "Best performer: XGBOOST Regressor with RMSE score of  2877.37991364064\n"
     ]
    }
   ],
   "source": [
    "# Conclusion\n",
    "print(\"Best performer: XGBOOST Regressor with RMSE score of \", rmse_xgb)"
   ]
  },
  {
   "cell_type": "code",
   "execution_count": null,
   "id": "a03a234e-abb0-415e-b246-3448cab6e479",
   "metadata": {},
   "outputs": [],
   "source": []
  }
 ],
 "metadata": {
  "kernelspec": {
   "display_name": "Python 3 (ipykernel)",
   "language": "python",
   "name": "python3"
  },
  "language_info": {
   "codemirror_mode": {
    "name": "ipython",
    "version": 3
   },
   "file_extension": ".py",
   "mimetype": "text/x-python",
   "name": "python",
   "nbconvert_exporter": "python",
   "pygments_lexer": "ipython3",
   "version": "3.11.7"
  }
 },
 "nbformat": 4,
 "nbformat_minor": 5
}
